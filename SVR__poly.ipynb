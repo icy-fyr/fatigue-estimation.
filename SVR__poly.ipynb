{
 "cells": [
  {
   "cell_type": "code",
   "execution_count": 32,
   "metadata": {
    "colab": {},
    "colab_type": "code",
    "id": "jj2T1HceX2VW"
   },
   "outputs": [],
   "source": [
    "import numpy as np\n",
    "import pandas as pd\n",
    "import matplotlib.pyplot as plt"
   ]
  },
  {
   "cell_type": "code",
   "execution_count": 33,
   "metadata": {
    "colab": {},
    "colab_type": "code",
    "id": "VubKFPSGX2Vt"
   },
   "outputs": [],
   "source": [
    "from sklearn.model_selection import train_test_split\n",
    "from sklearn.preprocessing import StandardScaler\n",
    "from sklearn.pipeline import make_pipeline\n",
    "from sklearn.svm import SVR\n",
    "from sklearn.metrics import r2_score, mean_squared_error"
   ]
  },
  {
   "cell_type": "code",
   "execution_count": 34,
   "metadata": {
    "colab": {
     "base_uri": "https://localhost:8080/",
     "height": 52
    },
    "colab_type": "code",
    "id": "ZWRpf5KhX2V6",
    "outputId": "1694c469-1185-4405-ff1a-ffb81c9ae9fc"
   },
   "outputs": [
    {
     "name": "stdout",
     "output_type": "stream",
     "text": [
      "(1400, 15)\n",
      "(1400,)\n"
     ]
    }
   ],
   "source": [
    "#filepath = ('C:/Users/pavan/Desktop/bootstrap/bootstrapped data.csv')\n",
    "data =pd.read_csv('bootstrapped data.csv')\n",
    "X = data.iloc[0:1400,:-1]\n",
    "y = data.iloc[0:1400,-1]\n",
    "X.shape\n",
    "print(X.shape)\n",
    "print(y.shape)"
   ]
  },
  {
   "cell_type": "code",
   "execution_count": 35,
   "metadata": {
    "colab": {
     "base_uri": "https://localhost:8080/",
     "height": 329
    },
    "colab_type": "code",
    "id": "8UXkZIrsX4co",
    "outputId": "2e531ebe-ef01-4a2e-e3d5-e41a350cbab2"
   },
   "outputs": [
    {
     "data": {
      "text/plain": [
       "(15, 15)"
      ]
     },
     "execution_count": 35,
     "metadata": {
      "tags": []
     },
     "output_type": "execute_result"
    },
    {
     "data": {
      "image/png": "[encoded data removed]",
      "text/plain": [
       "<Figure size 432x288 with 2 Axes>"
      ]
     },
     "metadata": {
      "needs_background": "light",
      "tags": []
     },
     "output_type": "display_data"
    }
   ],
   "source": [
    "corr = X.corr()\n",
    "import seaborn as sns\n",
    "sns.heatmap(corr)\n",
    "corr.shape"
   ]
  },
  {
   "cell_type": "code",
   "execution_count": 36,
   "metadata": {
    "colab": {
     "base_uri": "https://localhost:8080/",
     "height": 309
    },
    "colab_type": "code",
    "id": "Ljn9zzZDYBoK",
    "outputId": "450b4d6c-16d9-4096-9cf6-21e6ec173d65"
   },
   "outputs": [
    {
     "name": "stdout",
     "output_type": "stream",
     "text": [
      "[ True  True  True  True  True  True  True  True  True  True  True  True\n",
      "  True  True  True]\n",
      "[ True  True  True  True  True  True  True False  True  True  True  True\n",
      "  True  True  True]\n"
     ]
    },
    {
     "data": {
      "text/html": [
       "<div>\n",
       "<style scoped>\n",
       "    .dataframe tbody tr th:only-of-type {\n",
       "        vertical-align: middle;\n",
       "    }\n",
       "\n",
       "    .dataframe tbody tr th {\n",
       "        vertical-align: top;\n",
       "    }\n",
       "\n",
       "    .dataframe thead th {\n",
       "        text-align: right;\n",
       "    }\n",
       "</style>\n",
       "<table border=\"1\" class=\"dataframe\">\n",
       "  <thead>\n",
       "    <tr style=\"text-align: right;\">\n",
       "      <th></th>\n",
       "      <th>Hs (X1)</th>\n",
       "      <th>Ht (X2)</th>\n",
       "      <th>Cv (X3)</th>\n",
       "      <th>FF (X4)</th>\n",
       "      <th>FD (X5)</th>\n",
       "      <th>SD (X6)</th>\n",
       "      <th>SA (X7)</th>\n",
       "      <th>MD (X9)</th>\n",
       "      <th>PD (X10)</th>\n",
       "      <th>TD (X11)</th>\n",
       "      <th>P (X12)</th>\n",
       "      <th>E (X13)</th>\n",
       "      <th>FR (X14)</th>\n",
       "      <th>TWL (X15)</th>\n",
       "    </tr>\n",
       "  </thead>\n",
       "  <tbody>\n",
       "    <tr>\n",
       "      <th>0</th>\n",
       "      <td>0.005167</td>\n",
       "      <td>0.005284</td>\n",
       "      <td>0.348857</td>\n",
       "      <td>1.629222</td>\n",
       "      <td>403.767705</td>\n",
       "      <td>47.488970</td>\n",
       "      <td>19.439385</td>\n",
       "      <td>55.0</td>\n",
       "      <td>45.0</td>\n",
       "      <td>55.0</td>\n",
       "      <td>60.0</td>\n",
       "      <td>35.0</td>\n",
       "      <td>25.0</td>\n",
       "      <td>51.666667</td>\n",
       "    </tr>\n",
       "    <tr>\n",
       "      <th>1</th>\n",
       "      <td>0.004333</td>\n",
       "      <td>0.005024</td>\n",
       "      <td>0.117171</td>\n",
       "      <td>1.664610</td>\n",
       "      <td>124.369644</td>\n",
       "      <td>123.864539</td>\n",
       "      <td>20.786422</td>\n",
       "      <td>50.0</td>\n",
       "      <td>35.0</td>\n",
       "      <td>40.0</td>\n",
       "      <td>55.0</td>\n",
       "      <td>35.0</td>\n",
       "      <td>40.0</td>\n",
       "      <td>43.333333</td>\n",
       "    </tr>\n",
       "    <tr>\n",
       "      <th>2</th>\n",
       "      <td>0.004267</td>\n",
       "      <td>0.005127</td>\n",
       "      <td>0.136262</td>\n",
       "      <td>1.935838</td>\n",
       "      <td>124.369644</td>\n",
       "      <td>55.876283</td>\n",
       "      <td>32.456879</td>\n",
       "      <td>45.0</td>\n",
       "      <td>35.0</td>\n",
       "      <td>40.0</td>\n",
       "      <td>55.0</td>\n",
       "      <td>40.0</td>\n",
       "      <td>30.0</td>\n",
       "      <td>42.666667</td>\n",
       "    </tr>\n",
       "    <tr>\n",
       "      <th>3</th>\n",
       "      <td>0.004000</td>\n",
       "      <td>0.002459</td>\n",
       "      <td>0.092059</td>\n",
       "      <td>1.307856</td>\n",
       "      <td>124.567093</td>\n",
       "      <td>187.092365</td>\n",
       "      <td>17.082540</td>\n",
       "      <td>40.0</td>\n",
       "      <td>45.0</td>\n",
       "      <td>40.0</td>\n",
       "      <td>50.0</td>\n",
       "      <td>25.0</td>\n",
       "      <td>25.0</td>\n",
       "      <td>40.000000</td>\n",
       "    </tr>\n",
       "    <tr>\n",
       "      <th>4</th>\n",
       "      <td>0.005367</td>\n",
       "      <td>0.004437</td>\n",
       "      <td>0.713431</td>\n",
       "      <td>1.469699</td>\n",
       "      <td>493.786526</td>\n",
       "      <td>57.456780</td>\n",
       "      <td>32.922497</td>\n",
       "      <td>60.0</td>\n",
       "      <td>45.0</td>\n",
       "      <td>55.0</td>\n",
       "      <td>60.0</td>\n",
       "      <td>40.0</td>\n",
       "      <td>25.0</td>\n",
       "      <td>53.666667</td>\n",
       "    </tr>\n",
       "  </tbody>\n",
       "</table>\n",
       "</div>"
      ],
      "text/plain": [
       "    Hs (X1)   Ht (X2)   Cv (X3)  ...  E (X13)  FR (X14)  TWL (X15)\n",
       "0  0.005167  0.005284  0.348857  ...     35.0      25.0  51.666667\n",
       "1  0.004333  0.005024  0.117171  ...     35.0      40.0  43.333333\n",
       "2  0.004267  0.005127  0.136262  ...     40.0      30.0  42.666667\n",
       "3  0.004000  0.002459  0.092059  ...     25.0      25.0  40.000000\n",
       "4  0.005367  0.004437  0.713431  ...     40.0      25.0  53.666667\n",
       "\n",
       "[5 rows x 14 columns]"
      ]
     },
     "execution_count": 36,
     "metadata": {
      "tags": []
     },
     "output_type": "execute_result"
    }
   ],
   "source": [
    "col = np.full((15),True, dtype=\"bool\")\n",
    "print(col)\n",
    "flag = 0\n",
    "if flag==0:\n",
    "    for i in range(12):\n",
    "        for j in range(i+1,12):\n",
    "            if abs(corr.iloc[i,j])>0.9:\n",
    "                col[j] = False\n",
    "    X = X.iloc[:,col]\n",
    "    flag = 1\n",
    "print(col)\n",
    "X.head()"
   ]
  },
  {
   "cell_type": "code",
   "execution_count": 37,
   "metadata": {
    "colab": {
     "base_uri": "https://localhost:8080/",
     "height": 35
    },
    "colab_type": "code",
    "id": "estWWcH4X2WM",
    "outputId": "269ee5d5-7c15-412f-cfda-9710810380a8"
   },
   "outputs": [
    {
     "name": "stdout",
     "output_type": "stream",
     "text": [
      "(1120, 14) (280, 14) (1120, 1) (280, 1)\n"
     ]
    }
   ],
   "source": [
    "y = np.array(y).reshape(-1,1)\n",
    "scale = StandardScaler()\n",
    "X = scale.fit_transform(X)\n",
    "X_train,X_test,y_train,y_test = train_test_split(X,y,test_size=.2,random_state=0)\n",
    "print(X_train.shape,X_test.shape,y_train.shape,y_test.shape)"
   ]
  },
  {
   "cell_type": "code",
   "execution_count": 38,
   "metadata": {
    "colab": {
     "base_uri": "https://localhost:8080/",
     "height": 52
    },
    "colab_type": "code",
    "id": "cWpCcvwgX2WY",
    "outputId": "f3c5b835-4c5e-4412-b13c-e637202f432b"
   },
   "outputs": [
    {
     "data": {
      "text/plain": [
       "SVR(C=1.0, cache_size=200, coef0=0.0, degree=3, epsilon=0.1, gamma='scale',\n",
       "    kernel='poly', max_iter=-1, shrinking=True, tol=0.001, verbose=False)"
      ]
     },
     "execution_count": 38,
     "metadata": {
      "tags": []
     },
     "output_type": "execute_result"
    }
   ],
   "source": [
    "regressor = SVR(kernel = 'poly')\n",
    "regressor.fit(X_train, np.ravel(y_train,order='C'))"
   ]
  },
  {
   "cell_type": "code",
   "execution_count": 39,
   "metadata": {
    "colab": {},
    "colab_type": "code",
    "id": "xIQ4uzZGX2Wm"
   },
   "outputs": [],
   "source": [
    "#regr = make_pipeline(StandardScaler(), SVR(C=1.0, epsilon=0.2))\n",
    "#regr.fit(X,  np.ravel(y,order='C'))"
   ]
  },
  {
   "cell_type": "code",
   "execution_count": 40,
   "metadata": {
    "colab": {},
    "colab_type": "code",
    "id": "hTbI-R_KX2XD"
   },
   "outputs": [],
   "source": [
    "y_Pred = regressor.predict(X_test)"
   ]
  },
  {
   "cell_type": "code",
   "execution_count": 41,
   "metadata": {
    "colab": {
     "base_uri": "https://localhost:8080/",
     "height": 297
    },
    "colab_type": "code",
    "id": "i7iV9hXpX2XP",
    "outputId": "fe90d40f-d8eb-499c-a2eb-c5795c6737d1",
    "scrolled": true
   },
   "outputs": [
    {
     "data": {
      "text/plain": [
       "<matplotlib.legend.Legend at 0x7f342e037ac8>"
      ]
     },
     "execution_count": 41,
     "metadata": {
      "tags": []
     },
     "output_type": "execute_result"
    },
    {
     "data": {
      "image/png": "[encoded data removed]",
      "text/plain": [
       "<Figure size 432x288 with 1 Axes>"
      ]
     },
     "metadata": {
      "needs_background": "light",
      "tags": []
     },
     "output_type": "display_data"
    }
   ],
   "source": [
    "plt.scatter(y_test,y_Pred,color=\"black\")\n",
    "plt.plot(y_test,y_Pred,color=\"yellow\",label = \"SVR Model with poly kernel\")\n",
    "plt.xlabel(\"Actual Reaction time\")\n",
    "plt.ylabel(\"Predicted Reaction time \")\n",
    "plt.legend()\n"
   ]
  },
  {
   "cell_type": "code",
   "execution_count": 42,
   "metadata": {
    "colab": {
     "base_uri": "https://localhost:8080/",
     "height": 35
    },
    "colab_type": "code",
    "id": "N-ckYuPKX2Xb",
    "outputId": "e03379cc-2340-4fcf-c86b-243d155f6ae6"
   },
   "outputs": [
    {
     "data": {
      "text/plain": [
       "0.798866677671836"
      ]
     },
     "execution_count": 42,
     "metadata": {
      "tags": []
     },
     "output_type": "execute_result"
    }
   ],
   "source": [
    "regressor.score(X_test,y_test)"
   ]
  },
  {
   "cell_type": "code",
   "execution_count": 43,
   "metadata": {
    "colab": {
     "base_uri": "https://localhost:8080/",
     "height": 35
    },
    "colab_type": "code",
    "id": "A2-QJRF1X2Xn",
    "outputId": "0564ba57-91b7-496e-b038-6e51827aff34"
   },
   "outputs": [
    {
     "data": {
      "text/plain": [
       "0.7988666776718358"
      ]
     },
     "execution_count": 43,
     "metadata": {
      "tags": []
     },
     "output_type": "execute_result"
    }
   ],
   "source": [
    "r2_score(y_test,y_Pred)"
   ]
  },
  {
   "cell_type": "code",
   "execution_count": 44,
   "metadata": {
    "colab": {
     "base_uri": "https://localhost:8080/",
     "height": 35
    },
    "colab_type": "code",
    "id": "Lfqb4PpMY61S",
    "outputId": "90efd057-38bc-4908-ee12-cae25f236eea"
   },
   "outputs": [
    {
     "data": {
      "text/plain": [
       "31.87285616676569"
      ]
     },
     "execution_count": 44,
     "metadata": {
      "tags": []
     },
     "output_type": "execute_result"
    }
   ],
   "source": [
    "mean_squared_error(y_test,y_Pred)"
   ]
  },
  {
   "cell_type": "code",
   "execution_count": null,
   "metadata": {
    "colab": {},
    "colab_type": "code",
    "id": "1djzAx8LZWoZ"
   },
   "outputs": [],
   "source": []
  }
 ],
 "metadata": {
  "colab": {
   "name": "SVR _linear.ipynb",
   "provenance": []
  },
  "kernelspec": {
   "display_name": "Python 3",
   "language": "python",
   "name": "python3"
  },
  "language_info": {
   "codemirror_mode": {
    "name": "ipython",
    "version": 3
   },
   "file_extension": ".py",
   "mimetype": "text/x-python",
   "name": "python",
   "nbconvert_exporter": "python",
   "pygments_lexer": "ipython3",
   "version": "3.7.0"
  }
 },
 "nbformat": 4,
 "nbformat_minor": 1
}
