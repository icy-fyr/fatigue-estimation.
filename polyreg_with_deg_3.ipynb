{
 "cells": [
  {
   "cell_type": "code",
   "execution_count": 4,
   "metadata": {
    "colab": {},
    "colab_type": "code",
    "id": "4bNWzby01hSh"
   },
   "outputs": [],
   "source": [
    "import numpy as np\n",
    "import pandas as pd\n",
    "import matplotlib.pyplot as plt\n",
    "from sklearn.linear_model import LinearRegression\n",
    "from sklearn.preprocessing import PolynomialFeatures\n",
    "from sklearn.model_selection import train_test_split\n",
    "from sklearn.preprocessing import StandardScaler\n",
    "from sklearn.metrics import r2_score, mean_squared_error"
   ]
  },
  {
   "cell_type": "code",
   "execution_count": 10,
   "metadata": {
    "colab": {
     "base_uri": "https://localhost:8080/",
     "height": 52
    },
    "colab_type": "code",
    "id": "U5QTuDps1hS1",
    "outputId": "25bd4af1-5241-4851-daec-ae9a02e34e74"
   },
   "outputs": [
    {
     "name": "stdout",
     "output_type": "stream",
     "text": [
      "(1400, 15)\n",
      "(1400,)\n"
     ]
    }
   ],
   "source": [
    "#filepath = ('C:/Users/pavan/Desktop/bootstrap/bootstrapped data.csv')\n",
    "data =pd.read_csv('bootstrapped data.csv')\n",
    "X = data.iloc[0:1400,:-1]\n",
    "y = data.iloc[0:1400,-1]\n",
    "X.shape\n",
    "print(X.shape)\n",
    "print(y.shape)"
   ]
  },
  {
   "cell_type": "code",
   "execution_count": 11,
   "metadata": {
    "colab": {
     "base_uri": "https://localhost:8080/",
     "height": 329
    },
    "colab_type": "code",
    "id": "YzwChM8A1hS_",
    "outputId": "0f9e962e-0564-4db6-e678-ed7095a26153"
   },
   "outputs": [
    {
     "data": {
      "text/plain": [
       "(15, 15)"
      ]
     },
     "execution_count": 11,
     "metadata": {
      "tags": []
     },
     "output_type": "execute_result"
    },
    {
     "data": {
      "image/png": "[encoded data removed]",
      "text/plain": [
       "<Figure size 432x288 with 2 Axes>"
      ]
     },
     "metadata": {
      "needs_background": "light",
      "tags": []
     },
     "output_type": "display_data"
    }
   ],
   "source": [
    "corr = X.corr()\n",
    "import seaborn as sns\n",
    "sns.heatmap(corr)\n",
    "corr.shape"
   ]
  },
  {
   "cell_type": "code",
   "execution_count": 13,
   "metadata": {
    "colab": {
     "base_uri": "https://localhost:8080/",
     "height": 309
    },
    "colab_type": "code",
    "id": "46sNaViN1hTG",
    "outputId": "746a1479-deab-446b-b6bb-8cdc3f09f355"
   },
   "outputs": [
    {
     "name": "stdout",
     "output_type": "stream",
     "text": [
      "[ True  True  True  True  True  True  True  True  True  True  True  True\n",
      "  True  True  True]\n",
      "[ True  True  True  True  True  True  True False  True  True  True  True\n",
      "  True  True  True]\n"
     ]
    },
    {
     "data": {
      "text/html": [
       "<div>\n",
       "<style scoped>\n",
       "    .dataframe tbody tr th:only-of-type {\n",
       "        vertical-align: middle;\n",
       "    }\n",
       "\n",
       "    .dataframe tbody tr th {\n",
       "        vertical-align: top;\n",
       "    }\n",
       "\n",
       "    .dataframe thead th {\n",
       "        text-align: right;\n",
       "    }\n",
       "</style>\n",
       "<table border=\"1\" class=\"dataframe\">\n",
       "  <thead>\n",
       "    <tr style=\"text-align: right;\">\n",
       "      <th></th>\n",
       "      <th>Hs (X1)</th>\n",
       "      <th>Ht (X2)</th>\n",
       "      <th>Cv (X3)</th>\n",
       "      <th>FF (X4)</th>\n",
       "      <th>FD (X5)</th>\n",
       "      <th>SD (X6)</th>\n",
       "      <th>SA (X7)</th>\n",
       "      <th>MD (X9)</th>\n",
       "      <th>PD (X10)</th>\n",
       "      <th>TD (X11)</th>\n",
       "      <th>P (X12)</th>\n",
       "      <th>E (X13)</th>\n",
       "      <th>FR (X14)</th>\n",
       "      <th>TWL (X15)</th>\n",
       "    </tr>\n",
       "  </thead>\n",
       "  <tbody>\n",
       "    <tr>\n",
       "      <th>0</th>\n",
       "      <td>0.005167</td>\n",
       "      <td>0.005284</td>\n",
       "      <td>0.348857</td>\n",
       "      <td>1.629222</td>\n",
       "      <td>403.767705</td>\n",
       "      <td>47.488970</td>\n",
       "      <td>19.439385</td>\n",
       "      <td>55.0</td>\n",
       "      <td>45.0</td>\n",
       "      <td>55.0</td>\n",
       "      <td>60.0</td>\n",
       "      <td>35.0</td>\n",
       "      <td>25.0</td>\n",
       "      <td>51.666667</td>\n",
       "    </tr>\n",
       "    <tr>\n",
       "      <th>1</th>\n",
       "      <td>0.004333</td>\n",
       "      <td>0.005024</td>\n",
       "      <td>0.117171</td>\n",
       "      <td>1.664610</td>\n",
       "      <td>124.369644</td>\n",
       "      <td>123.864539</td>\n",
       "      <td>20.786422</td>\n",
       "      <td>50.0</td>\n",
       "      <td>35.0</td>\n",
       "      <td>40.0</td>\n",
       "      <td>55.0</td>\n",
       "      <td>35.0</td>\n",
       "      <td>40.0</td>\n",
       "      <td>43.333333</td>\n",
       "    </tr>\n",
       "    <tr>\n",
       "      <th>2</th>\n",
       "      <td>0.004267</td>\n",
       "      <td>0.005127</td>\n",
       "      <td>0.136262</td>\n",
       "      <td>1.935838</td>\n",
       "      <td>124.369644</td>\n",
       "      <td>55.876283</td>\n",
       "      <td>32.456879</td>\n",
       "      <td>45.0</td>\n",
       "      <td>35.0</td>\n",
       "      <td>40.0</td>\n",
       "      <td>55.0</td>\n",
       "      <td>40.0</td>\n",
       "      <td>30.0</td>\n",
       "      <td>42.666667</td>\n",
       "    </tr>\n",
       "    <tr>\n",
       "      <th>3</th>\n",
       "      <td>0.004000</td>\n",
       "      <td>0.002459</td>\n",
       "      <td>0.092059</td>\n",
       "      <td>1.307856</td>\n",
       "      <td>124.567093</td>\n",
       "      <td>187.092365</td>\n",
       "      <td>17.082540</td>\n",
       "      <td>40.0</td>\n",
       "      <td>45.0</td>\n",
       "      <td>40.0</td>\n",
       "      <td>50.0</td>\n",
       "      <td>25.0</td>\n",
       "      <td>25.0</td>\n",
       "      <td>40.000000</td>\n",
       "    </tr>\n",
       "    <tr>\n",
       "      <th>4</th>\n",
       "      <td>0.005367</td>\n",
       "      <td>0.004437</td>\n",
       "      <td>0.713431</td>\n",
       "      <td>1.469699</td>\n",
       "      <td>493.786526</td>\n",
       "      <td>57.456780</td>\n",
       "      <td>32.922497</td>\n",
       "      <td>60.0</td>\n",
       "      <td>45.0</td>\n",
       "      <td>55.0</td>\n",
       "      <td>60.0</td>\n",
       "      <td>40.0</td>\n",
       "      <td>25.0</td>\n",
       "      <td>53.666667</td>\n",
       "    </tr>\n",
       "  </tbody>\n",
       "</table>\n",
       "</div>"
      ],
      "text/plain": [
       "    Hs (X1)   Ht (X2)   Cv (X3)  ...  E (X13)  FR (X14)  TWL (X15)\n",
       "0  0.005167  0.005284  0.348857  ...     35.0      25.0  51.666667\n",
       "1  0.004333  0.005024  0.117171  ...     35.0      40.0  43.333333\n",
       "2  0.004267  0.005127  0.136262  ...     40.0      30.0  42.666667\n",
       "3  0.004000  0.002459  0.092059  ...     25.0      25.0  40.000000\n",
       "4  0.005367  0.004437  0.713431  ...     40.0      25.0  53.666667\n",
       "\n",
       "[5 rows x 14 columns]"
      ]
     },
     "execution_count": 13,
     "metadata": {
      "tags": []
     },
     "output_type": "execute_result"
    }
   ],
   "source": [
    "col = np.full((15),True, dtype=\"bool\")\n",
    "print(col)\n",
    "flag = 0\n",
    "if flag==0:\n",
    "    for i in range(12):\n",
    "        for j in range(i+1,12):\n",
    "            if abs(corr.iloc[i,j])>0.9:\n",
    "                col[j] = False\n",
    "    X = X.iloc[:,col]\n",
    "    flag = 1\n",
    "print(col)\n",
    "X.head()"
   ]
  },
  {
   "cell_type": "code",
   "execution_count": 14,
   "metadata": {
    "colab": {
     "base_uri": "https://localhost:8080/",
     "height": 35
    },
    "colab_type": "code",
    "id": "vEeBj23A1hTL",
    "outputId": "d3df9693-1e0c-468a-8b1d-b207ea75868a"
   },
   "outputs": [
    {
     "name": "stdout",
     "output_type": "stream",
     "text": [
      "(1120, 14) (280, 14) (1120, 1) (280, 1)\n"
     ]
    }
   ],
   "source": [
    "y = np.array(y).reshape(-1,1)\n",
    "scale = StandardScaler()\n",
    "X = scale.fit_transform(X)\n",
    "X_train,X_test,y_train,y_test = train_test_split(X,y,test_size=.2,random_state=0)\n",
    "print(X_train.shape,X_test.shape,y_train.shape,y_test.shape)"
   ]
  },
  {
   "cell_type": "code",
   "execution_count": 16,
   "metadata": {
    "colab": {},
    "colab_type": "code",
    "id": "9stpKXDs1hTQ"
   },
   "outputs": [],
   "source": [
    "poly = PolynomialFeatures(degree=3)"
   ]
  },
  {
   "cell_type": "code",
   "execution_count": 17,
   "metadata": {
    "colab": {},
    "colab_type": "code",
    "id": "CUfz2PBB1hTW"
   },
   "outputs": [],
   "source": [
    "X_poly = poly.fit_transform(X_train)\n",
    "x_test_poly = poly.transform(X_test)"
   ]
  },
  {
   "cell_type": "code",
   "execution_count": 18,
   "metadata": {
    "colab": {},
    "colab_type": "code",
    "id": "nFEmq1uu1hTd"
   },
   "outputs": [],
   "source": [
    "# poly.fit(X_poly,y_train)"
   ]
  },
  {
   "cell_type": "code",
   "execution_count": 19,
   "metadata": {
    "colab": {},
    "colab_type": "code",
    "id": "j7NaAPQE1hTi"
   },
   "outputs": [],
   "source": [
    "linreg = LinearRegression()"
   ]
  },
  {
   "cell_type": "code",
   "execution_count": 20,
   "metadata": {
    "colab": {
     "base_uri": "https://localhost:8080/",
     "height": 35
    },
    "colab_type": "code",
    "id": "JH_wDDLv1hTn",
    "outputId": "da74902a-40ce-4ba7-8bb1-873379090d91"
   },
   "outputs": [
    {
     "data": {
      "text/plain": [
       "LinearRegression(copy_X=True, fit_intercept=True, n_jobs=None, normalize=False)"
      ]
     },
     "execution_count": 20,
     "metadata": {
      "tags": []
     },
     "output_type": "execute_result"
    }
   ],
   "source": [
    "linreg.fit(X_poly,y_train)"
   ]
  },
  {
   "cell_type": "code",
   "execution_count": 21,
   "metadata": {
    "colab": {},
    "colab_type": "code",
    "id": "iGC1LqMa1hTt"
   },
   "outputs": [],
   "source": [
    "y_Pred = linreg.predict(x_test_poly)"
   ]
  },
  {
   "cell_type": "code",
   "execution_count": 22,
   "metadata": {
    "colab": {
     "base_uri": "https://localhost:8080/",
     "height": 297
    },
    "colab_type": "code",
    "id": "8Z--FJH11hT0",
    "outputId": "352be138-f365-4416-fea6-164f3e343837",
    "scrolled": false
   },
   "outputs": [
    {
     "data": {
      "text/plain": [
       "<matplotlib.legend.Legend at 0x7fdf8d317ba8>"
      ]
     },
     "execution_count": 22,
     "metadata": {
      "tags": []
     },
     "output_type": "execute_result"
    },
    {
     "data": {
      "image/png": "[encoded data removed]",
      "text/plain": [
       "<Figure size 432x288 with 1 Axes>"
      ]
     },
     "metadata": {
      "needs_background": "light",
      "tags": []
     },
     "output_type": "display_data"
    }
   ],
   "source": [
    "plt.scatter(y_test,y_Pred,color=\"black\")\n",
    "plt.plot(y_test,y_Pred,color=\"yellow\",label = \"Poly reg Model with degree 3\")\n",
    "plt.xlabel(\"Actual Reaction time\")\n",
    "plt.ylabel(\"Predicted Reaction time \")\n",
    "plt.legend()\n"
   ]
  },
  {
   "cell_type": "code",
   "execution_count": 23,
   "metadata": {
    "colab": {
     "base_uri": "https://localhost:8080/",
     "height": 35
    },
    "colab_type": "code",
    "id": "LKAic16_1hT7",
    "outputId": "2db3a71b-f992-488b-e915-6691de4b147b"
   },
   "outputs": [
    {
     "data": {
      "text/plain": [
       "1.0"
      ]
     },
     "execution_count": 23,
     "metadata": {
      "tags": []
     },
     "output_type": "execute_result"
    }
   ],
   "source": [
    "linreg.score(poly.fit_transform(X),y)"
   ]
  },
  {
   "cell_type": "code",
   "execution_count": 24,
   "metadata": {
    "colab": {
     "base_uri": "https://localhost:8080/",
     "height": 35
    },
    "colab_type": "code",
    "id": "i7qv0lhg1hUB",
    "outputId": "3ce01a79-7925-434f-819b-1af962c9e977"
   },
   "outputs": [
    {
     "data": {
      "text/plain": [
       "1.0"
      ]
     },
     "execution_count": 24,
     "metadata": {
      "tags": []
     },
     "output_type": "execute_result"
    }
   ],
   "source": [
    "r2_score(y_test,y_Pred)"
   ]
  },
  {
   "cell_type": "code",
   "execution_count": 25,
   "metadata": {
    "colab": {
     "base_uri": "https://localhost:8080/",
     "height": 35
    },
    "colab_type": "code",
    "id": "XbTotHjU1hUI",
    "outputId": "9b83fedd-f8d5-4ca1-87bf-5606110bfe3f"
   },
   "outputs": [
    {
     "data": {
      "text/plain": [
       "1.08475136132791e-27"
      ]
     },
     "execution_count": 25,
     "metadata": {
      "tags": []
     },
     "output_type": "execute_result"
    }
   ],
   "source": [
    "mean_squared_error(y_test,y_Pred)"
   ]
  },
  {
   "cell_type": "code",
   "execution_count": null,
   "metadata": {
    "colab": {},
    "colab_type": "code",
    "id": "p7gKqzXu1hUN"
   },
   "outputs": [],
   "source": []
  }
 ],
 "metadata": {
  "colab": {
   "name": "polyreg with deg 3.ipynb",
   "provenance": []
  },
  "kernelspec": {
   "display_name": "Python 3",
   "language": "python",
   "name": "python3"
  },
  "language_info": {
   "codemirror_mode": {
    "name": "ipython",
    "version": 3
   },
   "file_extension": ".py",
   "mimetype": "text/x-python",
   "name": "python",
   "nbconvert_exporter": "python",
   "pygments_lexer": "ipython3",
   "version": "3.7.0"
  }
 },
 "nbformat": 4,
 "nbformat_minor": 1
}
